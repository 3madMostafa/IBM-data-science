{
 "cells": [
  {
   "cell_type": "markdown",
   "metadata": {},
   "source": [
    "# Team Random Selection Code :)\n"
   ]
  },
  {
   "cell_type": "code",
   "execution_count": null,
   "metadata": {},
   "outputs": [],
   "source": [
    "import random\n",
    "\n",
    "# Define the four test lists\n",
    "level1_list = [1, 2, 3, 4]\n",
    "level2_list = ['a', 'b', 'c','d']\n",
    "level3_list = [99, 88, 77,66]\n",
    "level4_list = [\"1$\",\"2&\",\"3%\",\"4©\"]"
   ]
  },
  {
   "cell_type": "markdown",
   "metadata": {},
   "source": [
    "Think about a code that help us to have random new mixed lists, each list should have one element from each level lists.\n",
    "\n",
    "Output may be like that following:\n",
    "```python\n",
    "team1 = [1, 'c', 88, '2&']\n",
    "team2 = [4, 'a', 99, '3%']\n",
    "team3 = [2, 'b', 77, '4©']\n",
    "team4 = [3, 'd', 66, '1$']\n",
    "```\n",
    "\n"
   ]
  },
  {
   "cell_type": "code",
   "execution_count": 1,
   "metadata": {},
   "outputs": [
    {
     "name": "stdout",
     "output_type": "stream",
     "text": [
      "team1 = [(1, 'b', 88, '4©'), (3, 'c', 66, '2&'), (2, 'd', 77, '3%'), (4, 'a', 99, '1$')]\n",
      "team2 = [('4©', 88, 'b', 1), ('2&', 66, 'c', 3), ('3%', 77, 'd', 2), ('1$', 99, 'a', 4)]\n",
      "team3 = [('b', 1, '4©', 88), ('c', 3, '2&', 66), ('d', 2, '3%', 77), ('a', 4, '1$', 99)]\n",
      "team4 = [(88, '4©', 1, 'b'), (66, '2&', 3, 'c'), (77, '3%', 2, 'd'), (99, '1$', 4, 'a')]\n"
     ]
    }
   ],
   "source": [
    "# your code here\n",
    "import random\n",
    "\n",
    "# Level lists\n",
    "level1 = [1, 2, 3, 4]\n",
    "level2 = ['a', 'b', 'c', 'd']\n",
    "level3 = [66, 77, 88, 99]\n",
    "level4 = ['1$', '2&', '3%', '4©']\n",
    "\n",
    "# Shuffle the level lists\n",
    "random.shuffle(level1)\n",
    "random.shuffle(level2)\n",
    "random.shuffle(level3)\n",
    "random.shuffle(level4)\n",
    "\n",
    "# Create mixed lists\n",
    "team1 = list(zip(level1, level2, level3, level4))\n",
    "team2 = list(zip(level4, level3, level2, level1))\n",
    "team3 = list(zip(level2, level1, level4, level3))\n",
    "team4 = list(zip(level3, level4, level1, level2))\n",
    "\n",
    "# Print the mixed lists\n",
    "print(\"team1 =\", team1)\n",
    "print(\"team2 =\", team2)\n",
    "print(\"team3 =\", team3)\n",
    "print(\"team4 =\", team4)\n"
   ]
  }
 ],
 "metadata": {
  "kernelspec": {
   "display_name": "pubmed",
   "language": "python",
   "name": "python3"
  },
  "language_info": {
   "codemirror_mode": {
    "name": "ipython",
    "version": 3
   },
   "file_extension": ".py",
   "mimetype": "text/x-python",
   "name": "python",
   "nbconvert_exporter": "python",
   "pygments_lexer": "ipython3",
   "version": "3.12.3"
  }
 },
 "nbformat": 4,
 "nbformat_minor": 2
}
